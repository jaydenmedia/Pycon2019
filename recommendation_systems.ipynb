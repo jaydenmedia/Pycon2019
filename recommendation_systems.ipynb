{
 "cells": [
  {
   "cell_type": "markdown",
   "metadata": {},
   "source": [
    "# Pycon 2019 Workshop: Build an Intelligent Recommendation System\n",
    "\n",
    "## Objectives\n",
    "* Have a general idea of how recommendation systems operate.\n",
    "\n",
    "## Outcomes\n",
    "* Provide attendees with the necessary vocabulary and concepts of recommendation systems.\n",
    "* To design and implement recommendation systems using Python."
   ]
  },
  {
   "cell_type": "markdown",
   "metadata": {},
   "source": [
    "# Collaborative Filtering\n",
    "Making recommendations based on other people."
   ]
  },
  {
   "cell_type": "code",
   "execution_count": null,
   "metadata": {},
   "outputs": [],
   "source": [
    "from math import sqrt\n",
    "\n",
    "users = {\"Angelica\": {\"Blues Traveler\": 3.5, \"Broken Bells\": 2.0, \"Norah Jones\": 4.5, \"Phoenix\": 5.0, \"Slightly Stoopid\": 1.5, \"The Strokes\": 2.5, \"Vampire Weekend\": 2.0},\n",
    "         \"Bill\":{\"Blues Traveler\": 2.0, \"Broken Bells\": 3.5, \"Deadmau5\": 4.0, \"Phoenix\": 2.0, \"Slightly Stoopid\": 3.5, \"Vampire Weekend\": 3.0},\n",
    "         \"Chan\": {\"Blues Traveler\": 5.0, \"Broken Bells\": 1.0, \"Deadmau5\": 1.0, \"Norah Jones\": 3.0, \"Phoenix\": 5, \"Slightly Stoopid\": 1.0},\n",
    "         \"Dan\": {\"Blues Traveler\": 3.0, \"Broken Bells\": 4.0, \"Deadmau5\": 4.5, \"Phoenix\": 3.0, \"Slightly Stoopid\": 4.5, \"The Strokes\": 4.0, \"Vampire Weekend\": 2.0},\n",
    "         \"Hailey\": {\"Broken Bells\": 4.0, \"Deadmau5\": 1.0, \"Norah Jones\": 4.0, \"The Strokes\": 4.0, \"Vampire Weekend\": 1.0},\n",
    "         \"Jordyn\":  {\"Broken Bells\": 4.5, \"Deadmau5\": 4.0, \"Norah Jones\": 5.0, \"Phoenix\": 5.0, \"Slightly Stoopid\": 4.5, \"The Strokes\": 4.0, \"Vampire Weekend\": 4.0},\n",
    "         \"Sam\": {\"Blues Traveler\": 5.0, \"Broken Bells\": 2.0, \"Norah Jones\": 3.0, \"Phoenix\": 5.0, \"Slightly Stoopid\": 4.0, \"The Strokes\": 5.0},\n",
    "         \"Veronica\": {\"Blues Traveler\": 3.0, \"Norah Jones\": 5.0, \"Phoenix\": 4.0, \"Slightly Stoopid\": 2.5, \"The Strokes\": 3.0},\n",
    "         \"Clara\": {\"Blues Traveler\": 4.75, \"Norah Jones\": 4.5, \"Phoenix\": 5.0, \"The Strokes\": 4.25, \"Weird Al\": 4.0},\n",
    "         \"Robert\": {\"Blues Traveler\": 4.0, \"Norah Jones\": 3.0, \"Phoenix\": 5.0, \"The Strokes\": 2, \"Weird Al\": 1.0}\n",
    "        }"
   ]
  },
  {
   "cell_type": "markdown",
   "metadata": {},
   "source": [
    "# Investigate 2 dimensional relationships\n",
    "\n",
    "Find similar users by calculating their 2-dimensional distance from each other based on their overall ratings, using only items both users reviewed.  These techniques work best when there are no missing values.  The Minkowski Distance Metric reminds us that the greater the value of r (determined by the Manhattan Distance, Euclidean Distance, or Supremum Distance), the more a large difference in one dimension will influence the total difference.  Never assume that all users have rated all products!\n",
    "\n",
    "### Manhattan Distance\n",
    "* Benefit is that it is fast to compute.\n",
    "\n",
    "### Euclidean Distance\n",
    "* More steps to calculate but is a more accurate measurement than Manhattan Distance."
   ]
  },
  {
   "cell_type": "code",
   "execution_count": null,
   "metadata": {},
   "outputs": [],
   "source": [
    "users['Angelica']"
   ]
  },
  {
   "cell_type": "code",
   "execution_count": null,
   "metadata": {},
   "outputs": [],
   "source": [
    "users['Veronica']"
   ]
  },
  {
   "cell_type": "code",
   "execution_count": null,
   "metadata": {},
   "outputs": [],
   "source": [
    "def manhattan(rating1, rating2):\n",
    "    \"\"\"Computes the Manhattan distance. Both rating1 and rating2 are dictionaries\n",
    "       of the form {'The Strokes': 3.0, 'Slightly Stoopid': 2.5}\n",
    "       using the calculation | x1 - x2 | + | y1 - y2 |\n",
    "       \"\"\"\n",
    "    distance = 0\n",
    "    commonRatings = False \n",
    "    for key in rating1:\n",
    "        if key in rating2:\n",
    "            distance += abs(rating1[key] - rating2[key])\n",
    "            commonRatings = True\n",
    "    if commonRatings:\n",
    "        return distance\n",
    "    else:\n",
    "        return -1 #Indicates no ratings in common"
   ]
  },
  {
   "cell_type": "code",
   "execution_count": null,
   "metadata": {},
   "outputs": [],
   "source": [
    "manhattan(users['Angelica'], users['Veronica'])"
   ]
  },
  {
   "cell_type": "code",
   "execution_count": null,
   "metadata": {},
   "outputs": [],
   "source": [
    "manhattan(users['Dan'], users['Sam'])"
   ]
  },
  {
   "cell_type": "code",
   "execution_count": null,
   "metadata": {},
   "outputs": [],
   "source": [
    "from scipy.spatial.distance import cdist\n",
    "\n",
    "A = [[3.5, 2.5]]\n",
    "\n",
    "B = [[3, 3]]\n",
    "#A = [list(users['Angelica'].values())]\n",
    "#B = [list(users['Dan'].values())]\n",
    "out = cdist(A, B, metric='cityblock')\n",
    "print(out)"
   ]
  },
  {
   "cell_type": "code",
   "execution_count": null,
   "metadata": {},
   "outputs": [],
   "source": [
    "import matplotlib.pyplot as plt\n",
    "\n",
    "plt.scatter(A, B)\n",
    "plt.show()"
   ]
  },
  {
   "cell_type": "code",
   "execution_count": null,
   "metadata": {},
   "outputs": [],
   "source": [
    "def euclidean(rating1, rating2):\n",
    "    \"\"\"Computes the Euclidean distance. Both rating1 and rating2 are dictionaries\n",
    "       of the form {'The Strokes': 3.0, 'Slightly Stoopid': 2.5}\n",
    "       using the calculation sqrt( ( x1 - x2 )**2 + (y1 - y2 )**2 )\n",
    "       \"\"\"\n",
    "    distance = 0\n",
    "    total = 0\n",
    "    for key in rating1:\n",
    "        if key in rating2:\n",
    "            distance += abs(rating1[key] - rating2[key])**2\n",
    "            total += 1\n",
    "    if total > 0:\n",
    "        return sqrt(distance)\n",
    "    else:\n",
    "        return -1 #Indicates no ratings in common"
   ]
  },
  {
   "cell_type": "code",
   "execution_count": null,
   "metadata": {},
   "outputs": [],
   "source": [
    "euclidean(users['Angelica'], users['Veronica'])"
   ]
  },
  {
   "cell_type": "code",
   "execution_count": null,
   "metadata": {},
   "outputs": [],
   "source": [
    "euclidean(users['Dan'], users['Sam'])"
   ]
  },
  {
   "cell_type": "code",
   "execution_count": null,
   "metadata": {},
   "outputs": [],
   "source": [
    "def computeNearestNeighbor(username, users, dist='Manhattan'):\n",
    "    \"\"\"Creates a sorted list of users based on their distance to username.\"\"\"\n",
    "    distances = []\n",
    "    for user in users:\n",
    "        if user != username:\n",
    "            if dist == 'Euclidean':\n",
    "                distance = euclidean(users[user], users[username])\n",
    "                distances.append((distance, user))\n",
    "            elif dist =='Manhattan':\n",
    "                distance = manhattan(users[user], users[username])\n",
    "                distances.append((distance, user))\n",
    "    # sort based on distance -- closest first\n",
    "    distances.sort()\n",
    "    return distances"
   ]
  },
  {
   "cell_type": "code",
   "execution_count": null,
   "metadata": {},
   "outputs": [],
   "source": [
    "computeNearestNeighbor('Dan', users)"
   ]
  },
  {
   "cell_type": "code",
   "execution_count": null,
   "metadata": {},
   "outputs": [],
   "source": [
    "computeNearestNeighbor('Dan', users, 'Euclidean')"
   ]
  },
  {
   "cell_type": "code",
   "execution_count": null,
   "metadata": {},
   "outputs": [],
   "source": [
    "def recommend(username, users, dist='Manhattan'):\n",
    "    \"\"\"Give list of recommendations\"\"\"\n",
    "    # first find nearest neighbor\n",
    "    nearest = computeNearestNeighbor(username, users, dist)[0][1]\n",
    "\n",
    "    recommendations = []\n",
    "    # now find bands neighbor rated that user didn't\n",
    "    neighborRatings = users[nearest]\n",
    "    userRatings = users[username]\n",
    "    for artist in neighborRatings:\n",
    "        if not artist in userRatings:\n",
    "            recommendations.append((artist, neighborRatings[artist]))\n",
    "    # using the fn sorted for variety - sort is more efficient\n",
    "    return sorted(recommendations, key=lambda artistTuple: artistTuple[1], reverse=True)"
   ]
  },
  {
   "cell_type": "code",
   "execution_count": null,
   "metadata": {},
   "outputs": [],
   "source": [
    "recommend('Hailey', users)"
   ]
  },
  {
   "cell_type": "code",
   "execution_count": null,
   "metadata": {},
   "outputs": [],
   "source": [
    "recommend('Hailey', users, 'Euclidean') # This particular recommendation would change with the amount of products and users."
   ]
  },
  {
   "cell_type": "code",
   "execution_count": null,
   "metadata": {},
   "outputs": [],
   "source": [
    "recommend('Dan', users) # Is this because this is the only product left for Dan or because he would actually like it or both?"
   ]
  },
  {
   "cell_type": "code",
   "execution_count": null,
   "metadata": {},
   "outputs": [],
   "source": [
    "recommend('Sam', users) # Will Sam like this product?"
   ]
  },
  {
   "cell_type": "code",
   "execution_count": null,
   "metadata": {},
   "outputs": [],
   "source": [
    "recommend('Angelica', users, 'Euclidean') # What happened here?"
   ]
  },
  {
   "cell_type": "code",
   "execution_count": null,
   "metadata": {},
   "outputs": [],
   "source": [
    "computeNearestNeighbor('Angelica', users, 'Euclidean') # Take a look at that person's nearest neighbor"
   ]
  },
  {
   "cell_type": "code",
   "execution_count": null,
   "metadata": {},
   "outputs": [],
   "source": [
    "import pandas as pd\n",
    "\n",
    "df = pd.DataFrame(users)"
   ]
  },
  {
   "cell_type": "code",
   "execution_count": null,
   "metadata": {},
   "outputs": [],
   "source": [
    "df[['Angelica', 'Veronica']] # Compare the product ratings of these two users."
   ]
  },
  {
   "cell_type": "code",
   "execution_count": null,
   "metadata": {},
   "outputs": [],
   "source": [
    "def minkowski(rating1, rating2, r):\n",
    "    \"\"\"Computes the Minkowski distance. Both rating1 and rating2 are dictionaries of the form.\n",
    "    Minkowski distance is typically used with r being 1 (Manhattan distance) or 2 (Euclidean distance).\n",
    "    {'The Strokes': 3.0, 'Slightly Stoopid': 2.5}\"\"\"\n",
    "    distance = 0\n",
    "    commonRatings = False\n",
    "    for key in rating1:\n",
    "        if key in rating2:\n",
    "            distance += pow(abs(rating1[key] - rating2[key]), r)\n",
    "            commonRatings = True\n",
    "    if commonRatings:\n",
    "        return pow(distance, 1/r)\n",
    "    else:\n",
    "        return 0 \n",
    "#Indicates no ratings in common"
   ]
  },
  {
   "cell_type": "code",
   "execution_count": null,
   "metadata": {},
   "outputs": [],
   "source": [
    "minkowski(users['Angelica'], users['Veronica'], 2)"
   ]
  },
  {
   "cell_type": "code",
   "execution_count": null,
   "metadata": {},
   "outputs": [],
   "source": [
    "def computeNearestNeighbor(username, users, r):\n",
    "    \"\"\"Creates a sorted list of users based on their distance to username.\n",
    "    When r=1 then use Manhattan Distance\n",
    "    When r=2 then use Euclidean Distance\n",
    "    When r>2 then use Supremum Distance\n",
    "    \"\"\"\n",
    "    distances = []\n",
    "    for user in users:\n",
    "        if user != username:\n",
    "            distance = minkowski(users[user], users[username], r)\n",
    "            distances.append((distance, user))\n",
    "    # sort based on distance -- closest first\n",
    "    distances.sort()\n",
    "    return distances"
   ]
  },
  {
   "cell_type": "code",
   "execution_count": null,
   "metadata": {},
   "outputs": [],
   "source": [
    "computeNearestNeighbor('Angelica', users, 2)"
   ]
  },
  {
   "cell_type": "code",
   "execution_count": null,
   "metadata": {},
   "outputs": [],
   "source": [
    "def recommend(username, users, r):\n",
    "    \"\"\"Give list of recommendations\"\"\"\n",
    "    # first find nearest neighbor\n",
    "    nearest = computeNearestNeighbor(username, users, r)[0][1]\n",
    "\n",
    "    recommendations = []\n",
    "    # now find bands neighbor rated that user didn't\n",
    "    neighborRatings = users[nearest]\n",
    "    userRatings = users[username]\n",
    "    for artist in neighborRatings:\n",
    "        if not artist in userRatings:\n",
    "            recommendations.append((artist, neighborRatings[artist]))\n",
    "    # using the fn sorted for variety - sort is more efficient\n",
    "    return sorted(recommendations, key=lambda artistTuple: artistTuple[1], reverse=True)"
   ]
  },
  {
   "cell_type": "code",
   "execution_count": null,
   "metadata": {},
   "outputs": [],
   "source": [
    "recommend('Angelica', users, 2) # What happened here?"
   ]
  },
  {
   "cell_type": "code",
   "execution_count": null,
   "metadata": {},
   "outputs": [],
   "source": [
    "df.describe().T # Closer inspection of user ratings show that users behave differently when rating products."
   ]
  },
  {
   "cell_type": "markdown",
   "metadata": {},
   "source": [
    "Look at Jordyn's min and max values, this is known as \"grade inflation\".\n",
    "\n",
    "This variability can create problems with a recommendation system.  One way to overcome this variability is to use Pearson's Correlation Coefficient."
   ]
  },
  {
   "cell_type": "code",
   "execution_count": null,
   "metadata": {},
   "outputs": [],
   "source": [
    "users2 = {\"Clara\": {\"Blues Traveler\": 4.75, \"Norah Jones\": 4.5, \"Phoenix\": 5.0, \"The Strokes\": 4.25, \"Weird Al\": 4.0},\n",
    "          \"Robert\": {\"Blues Traveler\": 4.0, \"Norah Jones\": 3.0, \"Phoenix\": 5.0, \"The Strokes\": 2, \"Weird Al\": 1.0} }"
   ]
  },
  {
   "cell_type": "code",
   "execution_count": null,
   "metadata": {},
   "outputs": [],
   "source": [
    "df2 = pd.DataFrame(users2)"
   ]
  },
  {
   "cell_type": "code",
   "execution_count": null,
   "metadata": {},
   "outputs": [],
   "source": [
    "import matplotlib.pyplot as plt\n",
    "\n",
    "fig, ax = plt.subplots()\n",
    "df2.plot('Clara', 'Robert', kind='scatter', ax=ax)\n",
    "for k, v in df2.iterrows():\n",
    "    ax.annotate(k, v)\n",
    "fig.canvas.draw() # Appears to be in perfect agreement, but look at the scaling!"
   ]
  },
  {
   "cell_type": "code",
   "execution_count": null,
   "metadata": {},
   "outputs": [],
   "source": [
    "plt.scatter(df2[\"Clara\"].index, df2[\"Clara\"])\n",
    "plt.scatter(df2[\"Robert\"].index, df2[\"Robert\"])\n",
    "plt.show()"
   ]
  },
  {
   "cell_type": "markdown",
   "metadata": {},
   "source": [
    "Use Pearson Correlation Coefficient to find the individual who is most similar to the person we are interested in finding."
   ]
  },
  {
   "cell_type": "code",
   "execution_count": null,
   "metadata": {},
   "outputs": [],
   "source": [
    "def pearson(rating1, rating2):\n",
    "    \"\"\" The Pearson Correlation Coefficient is a measure of correlation between two variables.\n",
    "    Use this to find the individual who is most similar to a particular user. It ranges between -1 and 1 inclusive.\n",
    "    1 indicates perfect agreement.\n",
    "    -1 indicates perfect disagreement.\n",
    "    \"\"\"\n",
    "    sum_xy = 0\n",
    "    sum_x = 0\n",
    "    sum_y = 0\n",
    "    sum_x2 = 0\n",
    "    sum_y2 = 0\n",
    "    n = 0\n",
    "    for key in rating1:\n",
    "        if key in rating2:\n",
    "            n += 1\n",
    "            x = rating1[key]\n",
    "            y = rating2[key]\n",
    "            sum_xy += x * y\n",
    "            sum_x += x\n",
    "            sum_y += y\n",
    "            sum_x2 += pow(x, 2)\n",
    "            sum_y2 += pow(y, 2)\n",
    "    # now compute denominator\n",
    "    denominator = sqrt(sum_x2 - pow(sum_x, 2) / n) * sqrt(sum_y2 - pow(sum_y, 2) / n)\n",
    "    if denominator == 0:\n",
    "        return 0\n",
    "    else:\n",
    "        return (sum_xy - (sum_x * sum_y) / n) / denominator"
   ]
  },
  {
   "cell_type": "code",
   "execution_count": null,
   "metadata": {},
   "outputs": [],
   "source": [
    "# Back to the full users table, including Clara and Robert\n",
    "pearson(users['Clara'], users['Robert']) # There are only 2 users."
   ]
  },
  {
   "cell_type": "code",
   "execution_count": null,
   "metadata": {},
   "outputs": [],
   "source": [
    "pearson(users['Angelica'], users['Bill'])"
   ]
  },
  {
   "cell_type": "markdown",
   "metadata": {},
   "source": [
    "# Cosine Similarity\n",
    "Chances are good that you do not have any ratings for products that I have, and the reverse is also true.\n",
    "\n",
    "Cosine Similarity is used to find similarity without being concerned about the number of zeros, as any measure of similarity should not depend on the shared-zero values.\n",
    "\n",
    "This one of the reasons why replacing null values with zeros and using a distance measure is a bad idea.  Can you explain what would happen in this situation?"
   ]
  },
  {
   "cell_type": "code",
   "execution_count": null,
   "metadata": {},
   "outputs": [],
   "source": [
    "def computeUserAverages(users):\n",
    "    \"\"\"Compute the average rating per user and return the result.\n",
    "    \"\"\"\n",
    "    results = {}\n",
    "    for (key, ratings) in users.items():\n",
    "        results[key] = float(sum(ratings.values())) / len(ratings.values())\n",
    "    return results"
   ]
  },
  {
   "cell_type": "code",
   "execution_count": null,
   "metadata": {},
   "outputs": [],
   "source": [
    "computeUserAverages(users)"
   ]
  },
  {
   "cell_type": "code",
   "execution_count": null,
   "metadata": {},
   "outputs": [],
   "source": [
    "# Use Pandas to find the mean of each user.\n",
    "df.describe(include='all').loc['mean']\n",
    "#df.mean(axis=0)"
   ]
  },
  {
   "cell_type": "code",
   "execution_count": null,
   "metadata": {},
   "outputs": [],
   "source": [
    "# Use Pandas to find the mean of each product.\n",
    "df.mean(axis=1)"
   ]
  },
  {
   "cell_type": "markdown",
   "metadata": {},
   "source": [
    "Use adjusted cosine similarity to compensate for grade inflation by subtracting a user's average rating from each of their ratings."
   ]
  },
  {
   "cell_type": "code",
   "execution_count": null,
   "metadata": {},
   "outputs": [],
   "source": [
    "def computeSimilarity(band1, band2, userRatings):\n",
    "    averages = {}\n",
    "    for (key, ratings) in userRatings.items():\n",
    "        averages[key] = (float(sum(ratings.values()))\n",
    "                         / len(ratings.values()))\n",
    "\n",
    "    num = 0  # numerator\n",
    "    dem1 = 0 # first half of denominator\n",
    "    dem2 = 0\n",
    "    for (user, ratings) in userRatings.items():\n",
    "        if band1 in ratings and band2 in ratings:\n",
    "            avg = averages[user]\n",
    "            num += (ratings[band1] - avg) * (ratings[band2] - avg)\n",
    "            dem1 += (ratings[band1] - avg)**2\n",
    "            dem2 += (ratings[band2] - avg)**2\n",
    "    try:\n",
    "        return num / (sqrt(dem1) * sqrt(dem2))\n",
    "    except ZeroDivisionError:\n",
    "        return None"
   ]
  },
  {
   "cell_type": "code",
   "execution_count": null,
   "metadata": {},
   "outputs": [],
   "source": [
    "bands = ['Blues Traveler', 'Broken Bells', 'Norah Jones', 'Phoenix', 'Slightly Stoopid', 'The Strokes', 'Vampire Weekend', 'Weird Al']\n",
    "\n",
    "for b in bands:\n",
    "    for x in bands:\n",
    "        #print(\"%20s%20s%10.5f\" % (b, x, computeSimilarity(b, x, users)))\n",
    "        try:\n",
    "            print(\"%20s%20s%10.5f\" % (b, x, computeSimilarity(b, x, users)))\n",
    "        except TypeError:\n",
    "            print(\"%20s%20s%10.5s\" % (b, x, computeSimilarity(b, x, users)))"
   ]
  },
  {
   "cell_type": "markdown",
   "metadata": {},
   "source": [
    "# Using K Nearest Neighbor to base recommendations on more than one person who is similar to our user.\n",
    "\n",
    "This helps to iron out the influence of any 'quirky' recommendations of any single person.\n",
    "\n",
    "The k-nearest neighbor approach to collaborative filtering uses k most similar people to \n",
    "determine recommendations. The best value for k is application specific so some experimentation is required."
   ]
  },
  {
   "cell_type": "code",
   "execution_count": null,
   "metadata": {},
   "outputs": [],
   "source": [
    "class recommender:\n",
    "    \"\"\"Recommendation class using K Nearest Neighbor (KNN).\n",
    "    \"\"\"\n",
    "    def __init__(self, data, k=1, metric='pearson', n=5):\n",
    "        \"\"\" initialize recommender\n",
    "        currently, if data is dictionary the recommender is initialized\n",
    "        to it.\n",
    "        For all other data types of data, no initialization occurs\n",
    "        k is the k value for k nearest neighbor\n",
    "        metric is which distance formula to use\n",
    "        n is the maximum number of recommendations to make\"\"\"\n",
    "        self.k = k\n",
    "        self.n = n\n",
    "        self.username2id = {}\n",
    "        self.userid2name = {}\n",
    "        self.productid2name = {}\n",
    "        # for some reason I want to save the name of the metric\n",
    "        self.metric = metric\n",
    "        if self.metric == 'pearson':\n",
    "            self.fn = self.pearson\n",
    "        #\n",
    "        # if data is dictionary set recommender data to it\n",
    "        #\n",
    "        if type(data).__name__ == 'dict':\n",
    "            self.data = data\n",
    "\n",
    "    def convertProductID2name(self, id):\n",
    "        \"\"\"Given product id number return product name\"\"\"\n",
    "        if id in self.productid2name:\n",
    "            return self.productid2name[id]\n",
    "        else:\n",
    "            return id\n",
    "\n",
    "\n",
    "    def userRatings(self, id, n):\n",
    "        \"\"\"Return n top ratings for user with id\"\"\"\n",
    "        print (\"Ratings for \" + self.userid2name[id])\n",
    "        ratings = self.data[id]\n",
    "        print(len(ratings))\n",
    "        ratings = list(ratings.items())\n",
    "        ratings = [(self.convertProductID2name(k), v)\n",
    "                   for (k, v) in ratings]\n",
    "        # finally sort and return\n",
    "        ratings.sort(key=lambda artistTuple: artistTuple[1],\n",
    "                     reverse = True)\n",
    "        ratings = ratings[:n]\n",
    "        for rating in ratings:\n",
    "            print(\"%s\\t%i\" % (rating[0], rating[1]))\n",
    "                 \n",
    "        \n",
    "    def pearson(self, rating1, rating2):\n",
    "        \"\"\" Determines how much influence each person should have, \n",
    "        adjusting for grade inflation.\n",
    "        \"\"\"\n",
    "        sum_xy = 0\n",
    "        sum_x = 0\n",
    "        sum_y = 0\n",
    "        sum_x2 = 0\n",
    "        sum_y2 = 0\n",
    "        n = 0\n",
    "        for key in rating1:\n",
    "            if key in rating2:\n",
    "                n += 1\n",
    "                x = rating1[key]\n",
    "                y = rating2[key]\n",
    "                sum_xy += x * y\n",
    "                sum_x += x\n",
    "                sum_y += y\n",
    "                sum_x2 += pow(x, 2)\n",
    "                sum_y2 += pow(y, 2)\n",
    "        if n == 0:\n",
    "            return 0\n",
    "        # now compute denominator\n",
    "        denominator = (sqrt(sum_x2 - pow(sum_x, 2) / n)\n",
    "                       * sqrt(sum_y2 - pow(sum_y, 2) / n))\n",
    "        if denominator == 0:\n",
    "            return 0\n",
    "        else:\n",
    "            return (sum_xy - (sum_x * sum_y) / n) / denominator\n",
    "\n",
    "\n",
    "    def computeNearestNeighbor(self, username):\n",
    "        \"\"\"Creates a sorted list of users based on their distance to\n",
    "        username\"\"\"\n",
    "        distances = []\n",
    "        for instance in self.data:\n",
    "            if instance != username:\n",
    "                distance = self.fn(self.data[username],\n",
    "                                   self.data[instance])\n",
    "                distances.append((instance, distance))\n",
    "        # sort based on distance -- closest first\n",
    "        distances.sort(key=lambda artistTuple: artistTuple[1],\n",
    "                       reverse=True)\n",
    "        return distances\n",
    "\n",
    "    def recommend(self, user):\n",
    "       \"\"\"Give list of recommendations\"\"\"\n",
    "       recommendations = {}\n",
    "       # first get list of users  ordered by nearness\n",
    "       nearest = self.computeNearestNeighbor(user)\n",
    "       #\n",
    "       # now get the ratings for the user\n",
    "       #\n",
    "       userRatings = self.data[user]\n",
    "       #\n",
    "       # determine the total distance\n",
    "       totalDistance = 0.0\n",
    "       for i in range(self.k):\n",
    "          totalDistance += nearest[i][1]\n",
    "       # now iterate through the k nearest neighbors\n",
    "       # accumulating their ratings\n",
    "       for i in range(self.k):\n",
    "          # compute slice of pie \n",
    "          weight = nearest[i][1] / totalDistance\n",
    "          # get the name of the person\n",
    "          name = nearest[i][0]\n",
    "          # get the ratings for this person\n",
    "          neighborRatings = self.data[name]\n",
    "          # get the name of the person\n",
    "          # now find bands neighbor rated that user didn't\n",
    "          for artist in neighborRatings:\n",
    "             if not artist in userRatings:\n",
    "                if artist not in recommendations:\n",
    "                   recommendations[artist] = (neighborRatings[artist]\n",
    "                                              * weight)\n",
    "                else:\n",
    "                   recommendations[artist] = (recommendations[artist]\n",
    "                                              + neighborRatings[artist]\n",
    "                                              * weight)\n",
    "       # now make list from dictionary\n",
    "       recommendations = list(recommendations.items())\n",
    "       recommendations = [(self.convertProductID2name(k), v)\n",
    "                          for (k, v) in recommendations]\n",
    "       # finally sort and return\n",
    "       recommendations.sort(key=lambda artistTuple: artistTuple[1],\n",
    "                            reverse = True)\n",
    "       # Return the first n items\n",
    "       return recommendations[:self.n]\n",
    "\n"
   ]
  },
  {
   "cell_type": "code",
   "execution_count": null,
   "metadata": {},
   "outputs": [],
   "source": [
    "r = recommender(users)\n",
    "user = 'Jordyn'\n",
    "print('Recommendation for {}: {}'.format(user, r.recommend(user)))\n",
    "user = 'Hailey'\n",
    "print('Recommendation for {}: {}'.format(user, r.recommend(user)))"
   ]
  },
  {
   "cell_type": "markdown",
   "metadata": {},
   "source": [
    "# Using Slope One to make item-based recommendations\n",
    "Slope One has two steps:\n",
    "1. Calculate deviations between all pairs of items.\n",
    "2. Use deviations to make predictions.\n",
    "\n",
    "There are several algorithms for Slope One.  This is an example of a Weighted Slope One.\n",
    "\n",
    "Thanks to Bryan O’Sullivan's blog \"teideal glic deisbhéalach\" for providing a Python version of Slope One:\n",
    "\n",
    "http://www.serpentine.com/blog/2006/12/12/collaborative-filtering-made-easy/"
   ]
  },
  {
   "cell_type": "code",
   "execution_count": null,
   "metadata": {},
   "outputs": [],
   "source": [
    "def buildAverageDiffs(items, users, averages, writeToCache=True):\n",
    "    for itemId in items:\n",
    "        for otherItemId in items:\n",
    "            average = 0\n",
    "            userRatingPairCount = 0\n",
    "            if itemId != otherItemId:\n",
    "                for userId in users:\n",
    "                    userRatings = users[userId]\n",
    "                    if itemId in userRatings and otherItemId in userRatings:\n",
    "                        userRatingPairCount += 1\n",
    "                        average += (userRatings[itemId] - userRatings[otherItemId])\n",
    "                averages[(itemId,otherItemId)] = average / userRatingPairCount\n",
    "\n",
    "def suggestedRating(users, items, averages, targetUserId, targetItemId):\n",
    "    runningRatingCount = 0\n",
    "    weightedRatingTotal = 0.0\n",
    "    for i in users[targetUserId]:\n",
    "        ratingCount = usersWhoRatedBoth(users, i, targetItemId)\n",
    "        weightedRatingTotal += (users[targetUserId][i] + averages[(targetItemId, i)]) * ratingCount\n",
    "        runningRatingCount += ratingCount\n",
    "    return weightedRatingTotal / runningRatingCount\n",
    "\n",
    "def usersWhoRatedBoth(users, itemId1, itemId2):\n",
    "    count = 0\n",
    "    for userId in users:\n",
    "        if itemId1 in users[userId] and itemId2 in users[userId]:\n",
    "            count += 1\n",
    "    return count\n",
    "\n",
    "#-----------------------------------MAIN---------------------------------------\n",
    "users2 = {\"Amy\": {\"Taylor Swift\": 4, \"PSY\": 3, \"Whitney Houston\": 4},\n",
    "          \"Ben\": {\"Taylor Swift\": 5, \"PSY\": 2}\n",
    "          ,\"Clara\": {\"PSY\": 3.5, \"Whitney Houston\": 4},\n",
    "          \"Daisy\": {\"Taylor Swift\": 5, \"Whitney Houston\": 3}}\n",
    "items = {'Taylor Swift': {\"Amy\":4, \"Ben\":5, \"Daisy\":5},\n",
    "         'PSY': {\"Ben\":2, \"Clara\":3.5},\n",
    "         'Whitney Houston': {\"Amy\":4, \"Clara\":4, \"Daisy\":3}}\n",
    "\n",
    "averages = {}\n",
    "\n",
    "buildAverageDiffs(items, users2, averages)\n",
    "\n",
    "print({'ItemCount': len(items), 'UserCount': len(users2), 'AverageDiffsCount': len(averages)} )\n",
    "print(averages)\n",
    "\n",
    "print(\"\\n\\rGuess of rating that user 'Ben' will give 'Whitney Houston'= \" + str(suggestedRating(users2,items, averages, 'Ben', 'Whitney Houston')))\n",
    "print(\"\\n\\rGuess of rating that user 'Clara' will give 'Taylor Swift'= \" + str(suggestedRating(users2,items, averages, 'Clara', 'Taylor Swift')))\n",
    "print(\"\\n\\rNotice Clara's score!\")"
   ]
  },
  {
   "cell_type": "code",
   "execution_count": null,
   "metadata": {},
   "outputs": [],
   "source": [
    "# Alternate version of the buildAverageDiffs() function.\n",
    "def computeDeviations(users):\n",
    "    # for each person in the data:\n",
    "    #    get their ratings\n",
    "    frequencies = {}\n",
    "    deviations = {}\n",
    "    for ratings in users.values():\n",
    "        # for each item & rating in that set of ratings:\n",
    "        for (item, rating) in ratings.items():\n",
    "            frequencies.setdefault(item, {})\n",
    "            deviations.setdefault(item, {})                    \n",
    "        # for each item2 & rating2 in that set of ratings:\n",
    "            for (item2, rating2) in ratings.items():\n",
    "                if item != item2:\n",
    "                    # add the difference between the ratings to our\n",
    "                    # computation\n",
    "                    frequencies[item].setdefault(item2, 0)\n",
    "                    deviations[item].setdefault(item2, 0.0)\n",
    "                    frequencies[item][item2] += 1\n",
    "                    deviations[item][item2] += rating - rating2\n",
    "\n",
    "    for (item, ratings) in deviations.items():\n",
    "        for item2 in ratings:\n",
    "            ratings[item2] /= frequencies[item][item2]\n",
    "    print(deviations)"
   ]
  },
  {
   "cell_type": "code",
   "execution_count": null,
   "metadata": {},
   "outputs": [],
   "source": [
    "# How is this output different than the output of the buildAverageDiffs() function?\n",
    "computeDeviations(users2)"
   ]
  },
  {
   "cell_type": "code",
   "execution_count": null,
   "metadata": {},
   "outputs": [],
   "source": [
    "def slopeOneRecommendations(userRatings):\n",
    "    recommendations = {}\n",
    "    frequencies = {}\n",
    "    deviations = computeDeviations(userRatings)\n",
    "    # for every item and rating in the user's recommendations\n",
    "    for (userItem, userRating) in userRatings.items():\n",
    "        # for every item in our dataset that the user didn't rate\n",
    "        for (diffItem, diffRatings) in deviations.items():\n",
    "            if diffItem not in userRatings and \\\n",
    "            userItem in deviations[diffItem]:\n",
    "                freq = frequencies[diffItem][userItem]\n",
    "                recommendations.setdefault(diffItem, 0.0)\n",
    "                frequencies.setdefault(diffItem, 0)\n",
    "                # add to the running sum representing the numerator\n",
    "                # of the formula\n",
    "                recommendations[diffItem] += (diffRatings[userItem] +\n",
    "                                              userRating) * freq\n",
    "                # keep a running sum of the frequency of diffitem\n",
    "                frequencies[diffItem] += freq\n",
    "    recommendations =  [(self.convertProductID2name(k),\n",
    "                         v / frequencies[k])\n",
    "                        for (k, v) in recommendations.items()]\n",
    "    # finally sort and return\n",
    "    recommendations.sort(key=lambda artistTuple: artistTuple[1],\n",
    "                         reverse = True)\n",
    "    # Return the first 50 recommendations\n",
    "    return recommendations[:50]"
   ]
  },
  {
   "cell_type": "code",
   "execution_count": null,
   "metadata": {},
   "outputs": [],
   "source": [
    "computeDeviations(users2)"
   ]
  },
  {
   "cell_type": "code",
   "execution_count": null,
   "metadata": {},
   "outputs": [],
   "source": [
    "slopeOneRecommendations(users2)"
   ]
  },
  {
   "cell_type": "markdown",
   "metadata": {},
   "source": [
    "# Incorporate Slope One into the Recommender class."
   ]
  },
  {
   "cell_type": "code",
   "execution_count": null,
   "metadata": {},
   "outputs": [],
   "source": [
    "class recommender:\n",
    "    \"\"\"\n",
    "    sampe data set available at https://grouplens.org/datasets/movielens/\n",
    "    \"\"\"\n",
    "    def __init__(self, data, k=1, metric='pearson', n=5):\n",
    "        \"\"\" initialize recommender\n",
    "        currently, if data is dictionary the recommender is initialized\n",
    "        to it.\n",
    "        For all other data types of data, no initialization occurs\n",
    "        k is the k value for k nearest neighbor\n",
    "        metric is which distance formula to use\n",
    "        n is the maximum number of recommendations to make\"\"\"\n",
    "        self.k = k\n",
    "        self.n = n\n",
    "        self.username2id = {}\n",
    "        self.userid2name = {}\n",
    "        self.productid2name = {}\n",
    "        #\n",
    "        # The following two variables are used for Slope One\n",
    "        # \n",
    "        self.frequencies = {}\n",
    "        self.deviations = {}\n",
    "        # for some reason I want to save the name of the metric\n",
    "        self.metric = metric\n",
    "        if self.metric == 'pearson':\n",
    "            self.fn = self.pearson\n",
    "        #\n",
    "        # if data is dictionary set recommender data to it\n",
    "        #\n",
    "        if type(data).__name__ == 'dict':\n",
    "            self.data = data\n",
    "\n",
    "    def convertProductID2name(self, id):\n",
    "        \"\"\"Given product id number return product name\"\"\"\n",
    "        if id in self.productid2name:\n",
    "            return self.productid2name[id]\n",
    "        else:\n",
    "            return id\n",
    "\n",
    "    def userRatings(self, id, n):\n",
    "        \"\"\"Return n top ratings for user with id\"\"\"\n",
    "        print(\"Ratings for \" + self.userid2name[id])\n",
    "        ratings = self.data[id]\n",
    "        print(len(ratings))\n",
    "        ratings = list(ratings.items())[:n]\n",
    "        ratings = [(self.convertProductID2name(k), v)\n",
    "                   for (k, v) in ratings]\n",
    "        # finally sort and return\n",
    "        ratings.sort(key=lambda artistTuple: artistTuple[1],\n",
    "                     reverse = True)      \n",
    "        for rating in ratings:\n",
    "            print(\"%s\\t%i\" % (rating[0], rating[1]))\n",
    "\n",
    "    def showUserTopItems(self, user, n):\n",
    "        \"\"\" show top n items for user\"\"\"\n",
    "        items = list(self.data[user].items())\n",
    "        items.sort(key=lambda itemTuple: itemTuple[1], reverse=True)\n",
    "        for i in range(n):\n",
    "            print(\"%s\\t%i\" % (self.convertProductID2name(items[i][0]),\n",
    "                              items[i][1]))\n",
    "\n",
    "    def computeDeviations(self):\n",
    "        # for each person in the data:\n",
    "        #    get their ratings\n",
    "        for ratings in self.data.values():\n",
    "            # for each item & rating in that set of ratings:\n",
    "            for (item, rating) in ratings.items():\n",
    "                self.frequencies.setdefault(item, {})\n",
    "                self.deviations.setdefault(item, {})                    \n",
    "                # for each item2 & rating2 in that set of ratings:\n",
    "                for (item2, rating2) in ratings.items():\n",
    "                    if item != item2:\n",
    "                        # add the difference between the ratings to our\n",
    "                        # computation\n",
    "                        self.frequencies[item].setdefault(item2, 0)\n",
    "                        self.deviations[item].setdefault(item2, 0.0)\n",
    "                        self.frequencies[item][item2] += 1\n",
    "                        self.deviations[item][item2] += rating - rating2\n",
    "\n",
    "        for (item, ratings) in self.deviations.items():\n",
    "            for item2 in ratings:\n",
    "                ratings[item2] /= self.frequencies[item][item2]\n",
    "\n",
    "    def slopeOneRecommendations(self, userRatings):\n",
    "        recommendations = {}\n",
    "        frequencies = {}\n",
    "        # for every item and rating in the user's recommendations\n",
    "        for (userItem, userRating) in userRatings.items():\n",
    "            # for every item in our dataset that the user didn't rate\n",
    "            for (diffItem, diffRatings) in self.deviations.items():\n",
    "                if diffItem not in userRatings and \\\n",
    "                userItem in self.deviations[diffItem]:\n",
    "                    freq = self.frequencies[diffItem][userItem]\n",
    "                    recommendations.setdefault(diffItem, 0.0)\n",
    "                    frequencies.setdefault(diffItem, 0)\n",
    "                    # add to the running sum representing the numerator\n",
    "                    # of the formula\n",
    "                    recommendations[diffItem] += (diffRatings[userItem] +\n",
    "                                                  userRating) * freq\n",
    "                    # keep a running sum of the frequency of diffitem\n",
    "                    frequencies[diffItem] += freq\n",
    "        recommendations =  [(self.convertProductID2name(k),\n",
    "                             v / frequencies[k])\n",
    "                            for (k, v) in recommendations.items()]\n",
    "        # finally sort and return\n",
    "        recommendations.sort(key=lambda artistTuple: artistTuple[1],\n",
    "                             reverse=True)\n",
    "        # Return only the first 50 recommendations\n",
    "        return recommendations[:50]\n",
    "\n",
    "    def pearson(self, rating1, rating2):\n",
    "        \"\"\" Determines how much influence each person should have, \n",
    "        adjusting for grade inflation.\n",
    "        \"\"\"\n",
    "        sum_xy = 0\n",
    "        sum_x = 0\n",
    "        sum_y = 0\n",
    "        sum_x2 = 0\n",
    "        sum_y2 = 0\n",
    "        n = 0\n",
    "        for key in rating1:\n",
    "            if key in rating2:\n",
    "                n += 1\n",
    "                x = rating1[key]\n",
    "                y = rating2[key]\n",
    "                sum_xy += x * y\n",
    "                sum_x += x\n",
    "                sum_y += y\n",
    "                sum_x2 += pow(x, 2)\n",
    "                sum_y2 += pow(y, 2)\n",
    "        if n == 0:\n",
    "            return 0\n",
    "        # now compute denominator\n",
    "        denominator = sqrt(sum_x2 - pow(sum_x, 2) / n) * \\\n",
    "                        sqrt(sum_y2 - pow(sum_y, 2) / n)\n",
    "        if denominator == 0:\n",
    "            return 0\n",
    "        else:\n",
    "            return (sum_xy - (sum_x * sum_y) / n) / denominator\n",
    "\n",
    "    def computeNearestNeighbor(self, username):\n",
    "        \"\"\"creates a sorted list of users based on their distance\n",
    "        to username\"\"\"\n",
    "        distances = []\n",
    "        try:\n",
    "            for instance in self.data:\n",
    "                if instance != username:\n",
    "                    distance = self.fn(self.data[username],\n",
    "                                       self.data[instance])\n",
    "                    distances.append((instance, distance))\n",
    "        except KeyError:\n",
    "            pass\n",
    "                \n",
    "        # sort based on distance -- closest first\n",
    "        distances.sort(key=lambda artistTuple: artistTuple[1],\n",
    "                       reverse=True)\n",
    "        return distances\n",
    "\n",
    "    def recommend(self, user):\n",
    "        \"\"\"Give list of recommendations\"\"\"\n",
    "        recommendations = {}\n",
    "        # first get list of users  ordered by nearness\n",
    "        nearest = self.computeNearestNeighbor(user)\n",
    "        #\n",
    "        # now get the ratings for the user\n",
    "        #\n",
    "        try:\n",
    "            userRatings = self.data[user]\n",
    "        except KeyError:\n",
    "            return print('There is no user named {}'.format(user))\n",
    "        #\n",
    "        # determine the total distance\n",
    "        totalDistance = 0.0\n",
    "        for i in range(self.k):\n",
    "            totalDistance += nearest[i][1]\n",
    "        # now iterate through the k nearest neighbors\n",
    "        # accumulating their ratings\n",
    "        for i in range(self.k):\n",
    "            # compute slice of pie \n",
    "            weight = nearest[i][1] / totalDistance\n",
    "            # get the name of the person\n",
    "            name = nearest[i][0]\n",
    "            # get the ratings for this person\n",
    "            neighborRatings = self.data[name]\n",
    "            # get the name of the person\n",
    "            # now find bands neighbor rated that user didn't\n",
    "            for artist in neighborRatings:\n",
    "                if not artist in userRatings:\n",
    "                    if artist not in recommendations:\n",
    "                        recommendations[artist] = neighborRatings[artist] * weight\n",
    "                    else:\n",
    "                        recommendations[artist] = recommendations[artist] + \\\n",
    "                                            neighborRatings[artist] * \\\n",
    "                                            weight\n",
    "        # now make list from dictionary and only get the first n items\n",
    "        recommendations = list(recommendations.items())[:self.n]\n",
    "        recommendations = [(self.convertProductID2name(k), v)\n",
    "                           for (k, v) in recommendations]\n",
    "        # finally sort and return\n",
    "        recommendations.sort(key=lambda artistTuple: artistTuple[1],\n",
    "                             reverse=True)\n",
    "        return recommendations"
   ]
  },
  {
   "cell_type": "code",
   "execution_count": null,
   "metadata": {},
   "outputs": [],
   "source": [
    "r = recommender(users)"
   ]
  },
  {
   "cell_type": "code",
   "execution_count": null,
   "metadata": {},
   "outputs": [],
   "source": [
    "r.recommend('Jordyn') "
   ]
  },
  {
   "cell_type": "code",
   "execution_count": null,
   "metadata": {},
   "outputs": [],
   "source": [
    "r.recommend('Hailey')"
   ]
  },
  {
   "cell_type": "code",
   "execution_count": null,
   "metadata": {},
   "outputs": [],
   "source": [
    "r.recommend('Clara')"
   ]
  },
  {
   "cell_type": "code",
   "execution_count": null,
   "metadata": {},
   "outputs": [],
   "source": [
    "r.r.computeNearestNeighbor('Dan')"
   ]
  },
  {
   "cell_type": "code",
   "execution_count": null,
   "metadata": {},
   "outputs": [],
   "source": [
    "r.recommend('Robet')"
   ]
  },
  {
   "cell_type": "markdown",
   "metadata": {},
   "source": [
    "# Scenarios to keep in mind (when to these methods).\n",
    "* Use Pearson Correlation when data are subject to grade-inflation.\n",
    "* Use Distance measures when data are dense.\n",
    "* Use Cosine Similarity when data are sparse."
   ]
  },
  {
   "cell_type": "code",
   "execution_count": null,
   "metadata": {},
   "outputs": [],
   "source": [
    "bandname1 = 'Blues Traveler'\n",
    "bandname2 = 'The Strokes'\n",
    "votes1 = 0\n",
    "votes2 = 0\n",
    "user1 = 'Angelica'\n",
    "user2 = 'Veronica'\n",
    "for user, item in users.items():\n",
    "    print(user)\n",
    "    if bandname1 in item:\n",
    "        votes1 += 1\n",
    "        print('  {}: {}'.format(bandname1, item[bandname1]))\n",
    "    if bandname2 in item:\n",
    "        votes2 += 1\n",
    "        print('  {}: {}'.format(bandname2, item[bandname2]))\n",
    "    else:\n",
    "        pass\n",
    "print('\\n\\r{}% users have a rated the band {}.'.format((votes / len(users)), bandname1))\n",
    "print('\\n\\r{}% users have a rated the band {}.'.format((votes / len(users)), bandname2))\n"
   ]
  }
 ],
 "metadata": {
  "kernelspec": {
   "display_name": "Python 3",
   "language": "python",
   "name": "python3"
  },
  "language_info": {
   "codemirror_mode": {
    "name": "ipython",
    "version": 3
   },
   "file_extension": ".py",
   "mimetype": "text/x-python",
   "name": "python",
   "nbconvert_exporter": "python",
   "pygments_lexer": "ipython3",
   "version": "3.7.3"
  }
 },
 "nbformat": 4,
 "nbformat_minor": 2
}
